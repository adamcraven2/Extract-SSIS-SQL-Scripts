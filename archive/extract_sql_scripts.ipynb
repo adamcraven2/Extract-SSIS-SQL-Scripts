{
 "cells": [
  {
   "cell_type": "code",
   "execution_count": 1,
   "metadata": {},
   "outputs": [],
   "source": [
    "import os\n",
    "from lxml import etree\n",
    "import re\n",
    "import csv"
   ]
  },
  {
   "cell_type": "code",
   "execution_count": 2,
   "metadata": {},
   "outputs": [],
   "source": [
    "# set dtsx package file\n",
    "xml_file = rf'../xml_files/SSIS_SQLExtractSample.xml'#HR_DataConductor.dtsx'\n",
    "if not os.path.isfile(xml_file):\n",
    "    print(\"no package fible\")"
   ]
  },
  {
   "cell_type": "code",
   "execution_count": 3,
   "metadata": {},
   "outputs": [
    {
     "data": {
      "text/plain": [
       "<Element {www.microsoft.com/SqlServer/Dts}Executable at 0x1ed6ad16cc0>"
      ]
     },
     "execution_count": 3,
     "metadata": {},
     "output_type": "execute_result"
    }
   ],
   "source": [
    "# read and parse ssis package\n",
    "tree = etree.parse(xml_file)\n",
    "root = tree.getroot()\n",
    "root"
   ]
  },
  {
   "cell_type": "code",
   "execution_count": 4,
   "metadata": {},
   "outputs": [],
   "source": [
    "# Define the tags we needs to search the SSIS package for (all unique tags available in ele_tags variable)\n",
    "pfx = '{www.microsoft.com/'\n",
    "ref_tag = pfx + 'SqlServer/Dts}refId'\n",
    "exe_tag = pfx + 'SqlServer/Dts}Executable'\n",
    "obj_tag = pfx + 'SqlServer/Dts}ObjectName'\n",
    "dat_tag = pfx + 'SqlServer/Dts}ObjectData'\n",
    "tsk_tag = pfx + 'sqlserver/dts/tasks/sqltask}SqlTaskData'\n",
    "src_tag = pfx + 'sqlserver/dts/tasks/sqltask}SqlStatementSource'\n",
    "desc_tag = pfx + 'SqlServer/Dts}Description'"
   ]
  },
  {
   "cell_type": "code",
   "execution_count": 5,
   "metadata": {},
   "outputs": [],
   "source": [
    "# Define the namespace\n",
    "namespaces = {'DTS': 'www.microsoft.com/SqlServer/Dts'}"
   ]
  },
  {
   "cell_type": "code",
   "execution_count": 15,
   "metadata": {},
   "outputs": [],
   "source": [
    "sql_queries = []\n",
    "load_tables = []\n",
    "my_objects = []"
   ]
  },
  {
   "cell_type": "code",
   "execution_count": 16,
   "metadata": {},
   "outputs": [],
   "source": [
    "# Loop over the found elements and extract the text between the property tags\n",
    "for id, task in enumerate(root.xpath('//DTS:Executable[@DTS:Description=\"Data Flow Task\"]', namespaces=namespaces)):\n",
    "    refid = task.get(ref_tag)\n",
    "    \n",
    "    for comp_id, comp in enumerate(task.xpath('.//component', namespaces=namespaces)):\n",
    "            # If the text between property tag is not empty\n",
    "        task_name = comp.get('name')\n",
    "        comp_ref_id = comp.get('refId')\n",
    "\n",
    "        for prop in comp.xpath('.//property', namespaces=namespaces):\n",
    "            # If prop.text is not null\n",
    "            if prop.text:\n",
    "\n",
    "                if comp.get('componentClassID') == 'Microsoft.OLEDBSource' and (prop.get('description') == 'Specifies the name of the database object used to open a rowset.' or prop.get('name') == 'SqlCommand'):# and comp.get('componentClassID') == 'Microsoft.OLEDBSource':\n",
    "                    sql_query = prop.text.strip()\n",
    "                    my_objects.append((id, sql_query, comp_ref_id))\n",
    "\n",
    "                # if prop.get('description') == 'Specifies the name of the database object used to open a rowset.' and comp.get('componentClassID') == 'Microsoft.OLEDBDestination':\n",
    "                #     load_table = prop.text.strip()\n",
    "                #     my_objects.append((id, load_table, comp_ref_id))\n",
    "                                    \n",
    "            else:\n",
    "                for prop in comp.xpath('.//connection[@name=\"OleDbConnection\"]', namespaces=namespaces):\n",
    "                    source_conn = prop.get('connectionManagerID')\n",
    "                    print(source_conn)\n",
    "                    \n",
    "      \n",
    "            # sql_query = comp.xpath('.//property[@name=\"SqlCommand\"]/text()')\n",
    "            # load_table = comp.xpath('.//property[@description=\"Specifies the name of the database object used to open a rowset.\"]/text()')\n",
    "       \n",
    "            # print(id, sql_query, load_table)\n",
    "        \n",
    "    "
   ]
  },
  {
   "cell_type": "code",
   "execution_count": 17,
   "metadata": {},
   "outputs": [
    {
     "name": "stdout",
     "output_type": "stream",
     "text": [
      "(0, 'SELECT *\\n                                                            FROM Test.DataFlow;', 'Package\\\\SEQ_Loader\\\\HR Data Conductor\\\\Cost of Absence\\\\CostOfAbsence_Sickness Table\\\\Create table for CostOfAbsence_Sickness')\n",
      "(0, '[load].[CostOfAbsence_Sickness]', 'Package\\\\SEQ_Loader\\\\HR Data Conductor\\\\Cost of Absence\\\\CostOfAbsence_Sickness Table\\\\load CostOfAbsence_Sickness')\n"
     ]
    }
   ],
   "source": [
    "for tables in my_objects:\n",
    "    print(tables)"
   ]
  },
  {
   "cell_type": "code",
   "execution_count": null,
   "metadata": {},
   "outputs": [],
   "source": [
    "# Write the file names and descriptions to a CSV file with the specified structure\n",
    "with open('HR_DataConductor_Load_Tables.csv', 'w', newline='') as csvfile:\n",
    "    csvwriter = csv.writer(csvfile)\n",
    "    csvwriter.writerow(['ElementID', 'Table', 'Path'])  # Write header\n",
    "    for id, table, path in my_objects:\n",
    "        path = os.path.normpath(path)\n",
    "        csvwriter.writerow([id, table, path])\n",
    "\n",
    "print(\"CSV file has been created successfully.\")"
   ]
  }
 ],
 "metadata": {
  "kernelspec": {
   "display_name": "venv",
   "language": "python",
   "name": "python3"
  },
  "language_info": {
   "codemirror_mode": {
    "name": "ipython",
    "version": 3
   },
   "file_extension": ".py",
   "mimetype": "text/x-python",
   "name": "python",
   "nbconvert_exporter": "python",
   "pygments_lexer": "ipython3",
   "version": "3.12.6"
  }
 },
 "nbformat": 4,
 "nbformat_minor": 2
}
