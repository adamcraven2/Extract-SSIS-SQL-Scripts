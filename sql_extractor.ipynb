{
 "cells": [
  {
   "cell_type": "code",
   "execution_count": 2,
   "metadata": {},
   "outputs": [],
   "source": [
    "import os\n",
    "from lxml import etree\n",
    "import re\n",
    "import csv"
   ]
  },
  {
   "cell_type": "code",
   "execution_count": 8,
   "metadata": {},
   "outputs": [],
   "source": [
    "# set dtsx package file\n",
    "xml_file = rf'./dtsx_files/SSIS_SQLExtractSample.dtsx'#HR_DataConductor.dtsx'\n",
    "if not os.path.isfile(xml_file):\n",
    "    print(\"no package file\")"
   ]
  },
  {
   "cell_type": "code",
   "execution_count": 10,
   "metadata": {},
   "outputs": [
    {
     "data": {
      "text/plain": [
       "<Element {www.microsoft.com/SqlServer/Dts}Executable at 0x1e9eb08fbc0>"
      ]
     },
     "execution_count": 10,
     "metadata": {},
     "output_type": "execute_result"
    }
   ],
   "source": [
    "# read and parse ssis package\n",
    "tree = etree.parse(xml_file)\n",
    "root = tree.getroot()\n",
    "root"
   ]
  },
  {
   "cell_type": "code",
   "execution_count": 11,
   "metadata": {},
   "outputs": [],
   "source": [
    "# Define the tags we needs to search the SSIS package for (all unique tags available in ele_tags variable)\n",
    "pfx = '{www.microsoft.com/'\n",
    "ref_tag = pfx + 'SqlServer/Dts}refId'\n",
    "exe_tag = pfx + 'SqlServer/Dts}Executable'\n",
    "obj_tag = pfx + 'SqlServer/Dts}ObjectName'\n",
    "dat_tag = pfx + 'SqlServer/Dts}ObjectData'\n",
    "tsk_tag = pfx + 'sqlserver/dts/tasks/sqltask}SqlTaskData'\n",
    "src_tag = pfx + 'sqlserver/dts/tasks/sqltask}SqlStatementSource'\n",
    "desc_tag = pfx + 'SqlServer/Dts}Description'"
   ]
  },
  {
   "cell_type": "code",
   "execution_count": 12,
   "metadata": {},
   "outputs": [],
   "source": [
    "# Define the namespace\n",
    "namespaces = {\n",
    "              'DTS': 'www.microsoft.com/SqlServer/Dts',\n",
    "              'SQLTask': 'www.microsoft.com/sqlserver/dts/tasks/sqltask'\n",
    "             }"
   ]
  },
  {
   "cell_type": "code",
   "execution_count": 13,
   "metadata": {},
   "outputs": [],
   "source": [
    "# Loop over the found elements and extract the text between the property tags\n",
    "def extract_data_flow(id, element):\n",
    "        for comp in element.xpath('.//component', namespaces=namespaces):\n",
    "            task_name = comp.get('name')\n",
    "            ssis_path = comp.get('refId')\n",
    "\n",
    "            for prop in comp.xpath('.//property', namespaces=namespaces):\n",
    "                # If prop.text is not null\n",
    "                if prop.text and prop.get('name') == 'SqlCommand':\n",
    "                    with open(f'./sql_scripts/{id}-{task_name}.sql', \"w\") as file: \n",
    "                        file.write(f'-- SSIS Location: {ssis_path}\\n')\n",
    "                        file.write(prop.text.strip())"
   ]
  },
  {
   "cell_type": "code",
   "execution_count": 14,
   "metadata": {},
   "outputs": [],
   "source": [
    "def extract_sql_task(id, element, ssis_path, file_name):\n",
    "    for obj in element.xpath('.//SQLTask:SqlTaskData', namespaces=namespaces):\n",
    "        sql_query = obj.get(src_tag)\n",
    "        if sql_query:\n",
    "            with open(f'./sql_scripts/{id}-{file_name}.sql', \"w\") as file: \n",
    "                file.write(f'-- SSIS Location: {ssis_path}\\n')\n",
    "                file.write(sql_query.strip())\n",
    "    "
   ]
  },
  {
   "cell_type": "code",
   "execution_count": 15,
   "metadata": {},
   "outputs": [],
   "source": [
    "package_name = root.get(obj_tag)\n",
    "\n",
    "for id, execute in enumerate(root.xpath('//DTS:Executable', namespaces=namespaces)):\n",
    "    refid = execute.get(ref_tag)\n",
    "    obj_name = execute.get(obj_tag)\n",
    "    \n",
    "    if execute.get(desc_tag) == 'Data Flow Task':\n",
    "        extract_data_flow(id=id, element=execute)\n",
    "\n",
    "    elif execute.get(desc_tag) == 'Execute SQL Task':\n",
    "        extract_sql_task(id=id, element=execute, ssis_path=refid, file_name=obj_name)\n",
    "        \n",
    "        "
   ]
  },
  {
   "cell_type": "code",
   "execution_count": 59,
   "metadata": {},
   "outputs": [],
   "source": [
    "task_namespace = {'SQLTask': 'www.microsoft.com/sqlserver/dts/tasks/sqltask'}"
   ]
  },
  {
   "cell_type": "code",
   "execution_count": 68,
   "metadata": {},
   "outputs": [
    {
     "name": "stdout",
     "output_type": "stream",
     "text": [
      "SELECT * FROM Test.SQLTask;\n"
     ]
    }
   ],
   "source": [
    "for id, execute in enumerate(root.xpath('.//SQLTask:SqlTaskData', namespaces=namespaces)):\n",
    "    print(execute.get(src_tag))\n",
    "\n",
    "        #'{www.microsoft.com/SqlServer/Dts}Executable'"
   ]
  },
  {
   "cell_type": "code",
   "execution_count": null,
   "metadata": {},
   "outputs": [],
   "source": []
  }
 ],
 "metadata": {
  "kernelspec": {
   "display_name": "venv",
   "language": "python",
   "name": "python3"
  },
  "language_info": {
   "codemirror_mode": {
    "name": "ipython",
    "version": 3
   },
   "file_extension": ".py",
   "mimetype": "text/x-python",
   "name": "python",
   "nbconvert_exporter": "python",
   "pygments_lexer": "ipython3",
   "version": "3.10.11"
  }
 },
 "nbformat": 4,
 "nbformat_minor": 2
}
